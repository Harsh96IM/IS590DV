{
 "cells": [
  {
   "cell_type": "code",
   "execution_count": 1,
   "metadata": {},
   "outputs": [],
   "source": [
    "# nbi:hide_in\n",
    "import numpy as np\n",
    "import pandas as pd\n",
    "import matplotlib.pyplot as plt\n",
    "import ipywidgets\n",
    "import bqplot"
   ]
  },
  {
   "cell_type": "code",
   "execution_count": 2,
   "metadata": {},
   "outputs": [],
   "source": [
    "# nbi:hide_in\n",
    "data = pd.read_csv(\"order_products__prior.csv\")"
   ]
  },
  {
   "cell_type": "code",
   "execution_count": 3,
   "metadata": {},
   "outputs": [],
   "source": [
    "# nbi:hide_in\n",
    "dept = data[\"Department Name\"].unique()"
   ]
  },
  {
   "cell_type": "code",
   "execution_count": 4,
   "metadata": {},
   "outputs": [],
   "source": [
    "# nbi:hide_in\n",
    "# dept\n",
    "# aisles = []\n",
    "# dept.delete()\n",
    "dept = np.delete(dept,19)\n",
    "#dept = np.delete(dept,18)\n",
    "#dept"
   ]
  },
  {
   "cell_type": "code",
   "execution_count": 5,
   "metadata": {},
   "outputs": [],
   "source": [
    "# nbi:hide_in\n",
    "# @ipywidgets.interact(Department = dept)\n",
    "# def makewordcloud(Department):\n",
    "#     aisles = []\n",
    "#     for i in range(len(data)):\n",
    "#         if(str(Department) == str(data[\"Department Name\"][i])):\n",
    "#             aisles.append(data[\"Aisle_Name\"][i])\n",
    "#     new_aisles=(\" \").join(aisles)\n",
    "\n",
    "#     #masker = np.array(Image.open( \"instacart.png\"))\n",
    "\n",
    "#     wc = WordCloud(background_color = \"white\").generate(new_aisles)\n",
    "#     #plt.margins(x=0, y=0)\n",
    "\n",
    "#     # Display the generated image:\n",
    "#     #plt.imshow(wc, interpolation='bilinear')\n",
    "#     plt.axis(\"off\")\n",
    "#     plt.figure( figsize=(10,8) )\n",
    "#     plt.imshow(wc)\n",
    "#     plt.show()\n",
    "    \n",
    "dept = np.delete(dept,19)\n",
    "#dept"
   ]
  },
  {
   "cell_type": "code",
   "execution_count": 6,
   "metadata": {},
   "outputs": [],
   "source": [
    "# nbi:hide_in\n",
    "data_order = pd.read_csv(\"orders.csv\")\n"
   ]
  },
  {
   "cell_type": "code",
   "execution_count": 7,
   "metadata": {},
   "outputs": [],
   "source": [
    "# nbi:hide_in\n",
    "dayname = data_order[\"Dayname\"].unique()\n"
   ]
  },
  {
   "cell_type": "code",
   "execution_count": 8,
   "metadata": {},
   "outputs": [
    {
     "data": {
      "application/vnd.jupyter.widget-view+json": {
       "model_id": "a6419a51c41b49f2a3eef2f7892996f3",
       "version_major": 2,
       "version_minor": 0
      },
      "text/plain": [
       "interactive(children=(Dropdown(description='Day', options=('Tuesday', 'Wednesday', 'Thursday', 'Monday', 'Frid…"
      ]
     },
     "metadata": {},
     "output_type": "display_data"
    }
   ],
   "source": [
    "# nbi:hide_in\n",
    "\n",
    "@ipywidgets.interact(Day = dayname)\n",
    "def makelineplot(Day):\n",
    "    hour = []\n",
    "    req = []\n",
    "    \n",
    "    mask = str(Day) == data_order[\"Dayname\"].astype('str')\n",
    "\n",
    "    hour = data_order['order_hour_of_day'][mask]\n",
    "    req = data_order['order_id'][mask]\n",
    "    df = pd.DataFrame({'Hour':hour,'Request':req})\n",
    "#     for i in range(len(data_order)):\n",
    "#         if (str(Day) == str(data_order[\"Dayname\"][i])):\n",
    "#             hour.append(data_order[\"order_hour_of_day\"][i])\n",
    "#             req.append(data_order[\"order_id\"][i])\n",
    "    \n",
    "    #df = pd.DataFrame({'Hour':hour,'Request':req})\n",
    "    info = df.groupby(\"Hour\")[\"Request\"].count()\n",
    "    #plt.plot(info.index.values,info)\n",
    "    #plt.scatter(info.index.values,info,stroke_width = 1)\n",
    "    plt.plot(info.index.values,info,'-o')\n",
    "    plt.xlabel(\"Hour of the  Day\",size = 12)\n",
    "    plt.ylabel(\"Number of Orders\",size = 12)\n",
    "    plt.title(\"Orders received each hour by Instacart\",size = 15)\n",
    "    plt.xticks(size = 12)\n",
    "    plt.yticks(size = 12)\n",
    "    plt.show()"
   ]
  },
  {
   "cell_type": "code",
   "execution_count": 9,
   "metadata": {},
   "outputs": [],
   "source": [
    "# nbi:hide_in\n",
    "#plt.plot(np.arange(0,11),np.arange(11,22),'-o')\n",
    "#plt.xlabel(\"Hour of the  Day\",size = 12)\n",
    "#plt.ylabel(\"Number of Orders\",size = 12)\n",
    "#plt.title(\"Orders received each hour by Instacart\",size = 15)\n",
    "#plt.xticks(size = 12)\n",
    "#plt.yticks(size = 12)\n",
    "#plt.show()"
   ]
  },
  {
   "cell_type": "code",
   "execution_count": 10,
   "metadata": {},
   "outputs": [],
   "source": [
    "# nbi:hide_in\n",
    "#data[\"Department Id\"]"
   ]
  },
  {
   "cell_type": "code",
   "execution_count": 11,
   "metadata": {},
   "outputs": [],
   "source": [
    "# nbi:hide_in\n",
    "#data_order"
   ]
  },
  {
   "cell_type": "code",
   "execution_count": 12,
   "metadata": {},
   "outputs": [],
   "source": [
    "# nbi:hide_in\n",
    "# @ipywidgets.interact(Department = dept)\n",
    "# def makewordcloud(Department):\n",
    "#     aisles = []\n",
    "#     deptid = []\n",
    "#     for i in range(len(data)):\n",
    "#         if(str(Department) == str(data[\"Department Name\"][i])):\n",
    "#             aisles.append(data[\"Aisle_Name\"][i])\n",
    "#             deptid.append(data[\"Department Id\"][i])\n",
    "            \n",
    "#     df = pd.DataFrame({'Aisle':aisles,'DId':deptid})\n",
    "#     info = df.groupby(\"Aisle\")[\"DId\"].count()\n",
    "#     #new_aisles=(\" \").join(aisles)\n",
    "#     xsc = bqplot.OrdinalScale()\n",
    "#     ysc = bqplot.LinearScale()\n",
    "    \n",
    "#     xax = bqplot.Axis(scale = xsc, label='Aisles')\n",
    "#     yax = bqplot.Axis(scale = ysc, label='Number of Orders', orientation = 'vertical')\n",
    "    \n",
    "#     deftool = bqplot.Tooltip(fields = [\"Aisle\"],labels = [\"Aisles Name\"])\n",
    "#     barp = bqplot.Bars(x = info.index.values,y = [info],scales={'x':xax, 'y':yax},tooltip = deftool)\n",
    "    \n",
    "\n",
    "#     fig = bqplot.Figure(marks = [barp], axes = [xax, yax])\n",
    "#     fig\n",
    "\n",
    "# #myLabel = ipywidgets.Label()\n",
    "#     #masker = np.array(Image.open( \"instacart.png\"))\n",
    "\n",
    "#     #wc = WordCloud(background_color = \"white\").generate(new_aisles)\n",
    "#     #plt.margins(x=0, y=0)\n",
    "\n",
    "#     # Display the generated image:\n",
    "#     #plt.imshow(wc, interpolation='bilinear')\n",
    "#     #plt.axis(\"off\")\n",
    "#     #plt.figure( figsize=(10,8) )\n",
    "#     #plt.imshow(wc)\n",
    "#     #plt.show()\n",
    "    "
   ]
  },
  {
   "cell_type": "code",
   "execution_count": 13,
   "metadata": {},
   "outputs": [],
   "source": [
    "# nbi:hide_in\n",
    "# aisles = []\n",
    "# deptid = []\n",
    "# for i in range(len(data)):\n",
    "#     if(str(\"dairy eggs\") == str(data[\"Department Name\"][i])):\n",
    "#         aisles.append(data[\"Aisle_Name\"][i])\n",
    "#         deptid.append(data[\"Department Id\"][i])\n",
    "            \n",
    "# df = pd.DataFrame({'Aisle':aisles,'DId':deptid})\n",
    "# info = df.groupby(\"Aisle\")[\"DId\"].count()\n",
    "#     #new_aisles=(\" \").join(aisles)\n",
    "#     #xsc = bqplot.OrdinalScale()\n",
    "#     #ysc = bqplot.LinearScale()\n",
    "    \n",
    "#     #xax = bqplot.Axis(scale = xsc, label='Day Name')\n",
    "#     #yax = bqplot.Axis(scale = ysc, label='Number of Orders', orientation = 'vertical')\n",
    "    \n",
    "#     #deftool = bqplot.Tooltip(fields = [\"Aisle\"],labels = [\"Aisles Name\"])\n",
    "#     #barp = bqplot.Bars(x = info.index.values,y = [info],scales={'x':xax, 'y':yax},tooltip = deftool)\n",
    "    \n",
    "\n",
    "#     #fig = bqplot.Figure(marks = [barp], axes = [xax, yax])\n",
    "#     #fig\n",
    "    \n"
   ]
  },
  {
   "cell_type": "code",
   "execution_count": 14,
   "metadata": {},
   "outputs": [],
   "source": [
    "# nbi:hide_in\n",
    "# @ipywidgets.interact(Department = dept)\n",
    "# def makewordcloud(Department):\n",
    "#     aisles = []\n",
    "#     deptid = []\n",
    "#     for i in range(len(data)):\n",
    "#         if(str(Department) == str(data[\"Department Name\"][i])):\n",
    "#             aisles.append(data[\"Aisle_Name\"][i])\n",
    "#             deptid.append(data[\"Department Id\"][i])\n",
    "            \n",
    "#     df = pd.DataFrame({'Aisle':aisles,'DId':deptid})\n",
    "#     info = df.groupby(\"Aisle\")[\"DId\"].count()\n",
    "#     plt.bar\n",
    "    \n",
    "#     #xsc = bqplot.OrdinalScale()\n",
    "#     #ysc = bqplot.LinearScale()\n",
    "    \n",
    "#     #xax = bqplot.Axis(scale = xsc, label='Day Name')\n",
    "#     #yax = bqplot.Axis(scale = ysc, label='Number of Orders', orientation = 'vertical')\n",
    "    \n",
    "#     #deftool = bqplot.Tooltip(fields = [\"Aisle\"],labels = [\"Aisles Name\"])\n",
    "#     #barp = bqplot.Bars(x = np.arange(0,len(info)),y = [info],scales={'x':xax, 'y':yax},interactions = {'click': 'select'},\n",
    "#                         #anchor_style = {'fill':'red'})\n",
    "#     #mylabel  = ipywidgets.Label()\n",
    "    \n",
    "#     #def get_data_value(change):\n",
    "#         #i = change['owner'].selected[0]\n",
    "#         #mask = (d.values == dnames[i])\n",
    "#         #myLabel.value = str(i)\n",
    "    \n",
    "\n",
    "#     #fig = bqplot.Figure(marks = [barp], axes = [xax, yax])\n",
    "#     #ipywidgets.VBox([mylabel,ipywidgets.HBox([fig])])"
   ]
  },
  {
   "cell_type": "code",
   "execution_count": 15,
   "metadata": {},
   "outputs": [],
   "source": [
    "# nbi:hide_in\n",
    "#info\n"
   ]
  },
  {
   "cell_type": "code",
   "execution_count": 16,
   "metadata": {},
   "outputs": [],
   "source": [
    "# nbi:hide_in\n",
    "# #plt.bar(np.arange(0,len(info)),info,interactions = {'click': 'select'},anchor_style = {'fill':'red'})\n",
    "# xsc = bqplot.OrdinalScale()\n",
    "# ysc = bqplot.LinearScale()\n",
    "    \n",
    "# xax = bqplot.Axis(scale = xsc, label='DayName')\n",
    "# yax = bqplot.Axis(scale = ysc, label='Number of Orders', orientation = 'vertical')\n",
    "    \n",
    "#     #deftool = bqplot.Tooltip(fields = [\"Aisle\"],labels = [\"Aisles Name\"])\n",
    "# barp = bqplot.Bars(x = np.arange(0,len(info)),y = [info],scales={'x':xax, 'y':yax},interactions = {'click': 'select'},\n",
    "#                    anchor_style = {'fill':'red'})\n",
    "# fig = bqplot.Figure(marks = [barp], axes = [xax, yax])\n",
    "# fig\n"
   ]
  },
  {
   "cell_type": "code",
   "execution_count": 19,
   "metadata": {},
   "outputs": [],
   "source": [
    "# nbi:hide_in\n",
    "# @ipywidgets.interact(Department = dept)\n",
    "# def makeplot(Department):\n",
    "#     aisles = []\n",
    "#     deptid = []\n",
    "#     mask = str(Department) == data[\"Department Name\"].astype('str')\n",
    "#     aisles = data['Aisle_Name'][mask]\n",
    "#     deptid = data['Department Id'][mask]\n",
    "#     #df = pd.DataFrame({'Hour':hour,'Request':req})\n",
    "#     #     for i in range(len(data)):\n",
    "#     #         if(str(Department) == str(data[\"Department Name\"][i])):\n",
    "#     #             aisles.append(data[\"Aisle_Name\"][i])\n",
    "#     #             deptid.append(data[\"Department Id\"][i])\n",
    "            \n",
    "#     df = pd.DataFrame({'Aisle':aisles,'DId':deptid})\n",
    "#     info = df.groupby(\"Aisle\")[\"DId\"].count()\n",
    "\n",
    "#     x_sc = bqplot.OrdinalScale()\n",
    "#     y_sc = bqplot.LinearScale()\n",
    "#     x_ax = bqplot.Axis(scale = x_sc,orientation = 'vertical')\n",
    "#     y_ax = bqplot.Axis(scale = y_sc, label='Number of Orders', orientation = 'horizontal')\n",
    "\n",
    "#     bars = bqplot.Bars(x = info.index.values,\n",
    "#                    y = [info],\n",
    "#                    scales = {'y': y_sc, 'x': x_sc},\n",
    "#                    interactions = {'click': 'select'},\n",
    "#                    orientation = 'horizontal',\n",
    "#                    anchor_style = {'fill':'red'},\n",
    "#                    selected_style = {'opacity': 1.0},\n",
    "#                    unselected_style = {'opacity': 0.5},bin_width = 0.01)\n",
    "#     # construct a fig\n",
    "#     fig = bqplot.Figure(marks = [bars], axes = [x_ax, y_ax],fig_margin={'bottom': 60, 'top': 60, 'left': 200, 'right': 60})\n",
    "#     display(fig)\n"
   ]
  },
  {
   "cell_type": "code",
   "execution_count": 18,
   "metadata": {},
   "outputs": [
    {
     "data": {
      "text/plain": [
       "Text(0.5, 1.0, 'NY Counties with maximum retail food stores ')"
      ]
     },
     "execution_count": 18,
     "metadata": {},
     "output_type": "execute_result"
    },
    {
     "data": {
      "image/png": "[encoded data removed]",
      "text/plain": [
       "<Figure size 432x288 with 1 Axes>"
      ]
     },
     "metadata": {},
     "output_type": "display_data"
    }
   ],
   "source": [
    "# nbi:hide_in\n",
    "data2 = pd.read_csv(\"Retail_Food_Stores.csv\")\n",
    "data_req = data2.groupby(by=['County'])['Entity Name'].count().nlargest(15)\n",
    "data_req.plot.bar(stacked=True)\n",
    "plt.xlabel('Counties')\n",
    "plt.ylabel('Number of stores')\n",
    "plt.title('NY Counties with maximum retail food stores ')"
   ]
  },
  {
   "cell_type": "markdown",
   "metadata": {},
   "source": [
    "\n",
    "###  Retail_Food_Store dataset helping Instacart increasing their revenue\n",
    "The Retail_Food_Stores dataset contains the counties of New York state along with the retail food stores (Column:entity name) and their addreses under each county. Instacart will use this information to find out the counties/stores they are currently not having business with. Then under each county,they can cross check with their database and find out the stores they are not currently dealing with.Thereby, increasing their business by contacting the remaining stores. \n",
    "The graph represents top 15 counties having maximum stores with counties name on the X- axis and number of stores on the Y- axis. Since, top 15 counties have the maximum number of stores it will help Instacart to directly compare the number of stores their currently dealing with this graph information. If the number does not match, Instacart can look to check the missing stores in their database and start doing business with them. Hence, this dataset will help Instacart to increase their revenue and thus grow their business and deal with the new stores."
   ]
  },
  {
   "cell_type": "code",
   "execution_count": null,
   "metadata": {},
   "outputs": [],
   "source": []
  },
  {
   "cell_type": "code",
   "execution_count": null,
   "metadata": {},
   "outputs": [],
   "source": []
  },
  {
   "cell_type": "code",
   "execution_count": null,
   "metadata": {},
   "outputs": [],
   "source": []
  },
  {
   "cell_type": "code",
   "execution_count": null,
   "metadata": {},
   "outputs": [],
   "source": []
  },
  {
   "cell_type": "code",
   "execution_count": null,
   "metadata": {},
   "outputs": [],
   "source": []
  },
  {
   "cell_type": "code",
   "execution_count": null,
   "metadata": {},
   "outputs": [],
   "source": []
  }
 ],
 "metadata": {
  "kernelspec": {
   "display_name": "Python 3",
   "language": "python",
   "name": "python3"
  },
  "language_info": {
   "codemirror_mode": {
    "name": "ipython",
    "version": 3
   },
   "file_extension": ".py",
   "mimetype": "text/x-python",
   "name": "python",
   "nbconvert_exporter": "python",
   "pygments_lexer": "ipython3",
   "version": "3.6.8"
  }
 },
 "nbformat": 4,
 "nbformat_minor": 2
}
